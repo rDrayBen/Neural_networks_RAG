{
 "cells": [
  {
   "cell_type": "markdown",
   "metadata": {},
   "source": [
    "In this notebook we will divide the general task of building the RAG system into smaller parts and test solutions for every one of them."
   ]
  },
  {
   "cell_type": "markdown",
   "metadata": {},
   "source": [
    "As a data source we picked full text of the book \"THE COUNT OF MONTE CRISTO\" english version."
   ]
  },
  {
   "cell_type": "markdown",
   "metadata": {},
   "source": [
    "# Chunking"
   ]
  },
  {
   "cell_type": "markdown",
   "metadata": {},
   "source": [
    "As the base of the RAG system is a typical LLM, it has limited contex window, so we can't give whole text at once, hence, we need to divide it into chunks."
   ]
  },
  {
   "cell_type": "code",
   "execution_count": 2,
   "metadata": {},
   "outputs": [],
   "source": [
    "import os\n",
    "import pandas as pd\n",
    "\n",
    "from transformers import AutoTokenizer\n",
    "from langchain_text_splitters import RecursiveCharacterTextSplitter, CharacterTextSplitter\n",
    "import seaborn as sns"
   ]
  },
  {
   "cell_type": "code",
   "execution_count": 3,
   "metadata": {},
   "outputs": [],
   "source": [
    "DATA_FILE_PATH = os.path.join(os.path.dirname(os.getcwd()), \"data\\\\CountMonteCristoFull.txt\")"
   ]
  },
  {
   "cell_type": "code",
   "execution_count": 4,
   "metadata": {},
   "outputs": [],
   "source": [
    "with open(DATA_FILE_PATH, \"r\", encoding=\"utf-8\") as f:\n",
    "    data_corpus = f.read()"
   ]
  },
  {
   "cell_type": "markdown",
   "metadata": {},
   "source": [
    "The whole text consists of 2646643 characters"
   ]
  },
  {
   "cell_type": "code",
   "execution_count": 5,
   "metadata": {},
   "outputs": [
    {
     "data": {
      "text/plain": [
       "2646643"
      ]
     },
     "execution_count": 5,
     "metadata": {},
     "output_type": "execute_result"
    }
   ],
   "source": [
    "len(data_corpus)"
   ]
  },
  {
   "cell_type": "markdown",
   "metadata": {},
   "source": [
    "Based on the information, provided on HugginFace [website](https://huggingface.co/meta-llama/Meta-Llama-3-8B), llama3-8b-8192 models(which was chosen as LLM for this system) context window is the size 8192. This means that we should divide the whole dataset into parts about the size of 6000-6500 tokens.\\\n",
    "Besides that, to ensure integrity of models understanding of the text, these parts will be overlapping by 400-600 tokens to ensure that connections between consecutive chunks are retained.\\\n",
    "As we got from experimenting, these are the correlations between the lenghts of text chunks and tokens chunks\n",
    "* 5500 len text chunk + 600 len overlap ~ 1200-1450 len token chunks\n",
    "* 8000 len text chunk + 800 len overlap ~ 1700-2100 len token chunks\n",
    "* 10000 len text chunk + 1000 len overlap ~ 2300-2600 len token chunks\n",
    "\n",
    "After further analyzing chapters size, which are between 10k-60k symbols, the decision was made to split text into chunks of the size 10k symbols(2.3k-2.6 tokens)."
   ]
  },
  {
   "cell_type": "code",
   "execution_count": 6,
   "metadata": {},
   "outputs": [],
   "source": [
    "splitter = CharacterTextSplitter(separator=\"\\n\\n\", chunk_size=10000, chunk_overlap=1000)\n",
    "text_chunks = splitter.create_documents([data_corpus])"
   ]
  },
  {
   "cell_type": "code",
   "execution_count": 7,
   "metadata": {},
   "outputs": [
    {
     "name": "stdout",
     "output_type": "stream",
     "text": [
      "Example of text chunk: ﻿The Project Gutenberg eBook of The Count of Monte Cristo\n",
      "    \n",
      "This ebook is for the use of anyone anywhere in the United States and\n",
      "most other parts of the world at no cost and with almost no restrictions\n",
      "whatsoever. You may copy it, give it away or re-use it under the terms\n",
      "of the Project Gutenberg License included with this ebook or online\n",
      "at www.gutenberg.org. If you are not located in the United States,\n",
      "you will have to check the laws of the country where you are located\n",
      "before using this eBook.\n",
      "\n",
      "Title: The Count of Monte Cristo\n",
      "\n",
      "Author: Alexandre Dumas\n",
      "        Auguste Maquet\n",
      "\n",
      "Release date: January 1, 1998 [eBook #1184]\n",
      "                Most recently updated: February 4, 2024\n",
      "\n",
      "Language: English\n",
      "\n",
      "Credits: Anonymous Project Gutenberg Volunteers, Dan Muller and David Widger\n",
      "\n",
      "\n",
      "*** START OF THE PROJECT GUTENBERG EBOOK THE COUNT OF MONTE CRISTO ***\n",
      "THE COUNT OF MONTE CRISTO\n",
      "\n",
      "by Alexandre Dumas [père]\n",
      "\n",
      "0009m \n",
      "\n",
      "0011m \n",
      "\n",
      "0019m \n",
      "\n",
      "Contents\n",
      "\n",
      "\n",
      " VOLUME ONE\n",
      "Chapter 1. Marseilles—The Arrival\n",
      "Chapter 2. Father and Son\n",
      "Chapter 3. The Catalans\n",
      "Chapter 4. Conspiracy\n",
      "Chapter 5. The Marriage Feast\n",
      "Chapter 6. The Deputy Procureur du Roi\n",
      "Chapter 7. The Examination\n",
      "Chapter 8. The Château d’If\n",
      "Chapter 9. The Evening of the Betrothal\n",
      "Chapter 10. The King’s Closet at the Tuileries\n",
      "Chapter 11. The Corsican Ogre\n",
      "Chapter 12. Father and Son\n",
      "Chapter 13. The Hundred Days\n",
      "Chapter 14. The Two Prisoners\n",
      "Chapter 15. Number 34 and Number 27\n",
      "Chapter 16. A Learned Italian\n",
      "Chapter 17. The Abbé’s Chamber\n",
      "Chapter 18. The Treasure\n",
      "Chapter 19. The Third Attack\n",
      "Chapter 20. The Cemetery of the Château d’If\n",
      "Chapter 21. The Island of Tiboulen\n",
      "Chapter 22. The Smugglers\n",
      "Chapter 23. The Island of Monte Cristo\n",
      "Chapter 24. The Secret Cave\n",
      "Chapter 25. The Unknown\n",
      "Chapter 26. The Pont du Gard Inn\n",
      "Chapter 27. The Story\n",
      "\n",
      " VOLUME TWO\n",
      "Chapter 28. The Prison Register\n",
      "Chapter 29. The House of Morrel & Son\n",
      "Chapter 30. The Fifth of September\n",
      "Chapter 31. Italy: Sinbad the Sailor\n",
      "Chapter 32. The Waking\n",
      "Chapter 33. Roman Bandits\n",
      "Chapter 34. The Colosseum\n",
      "Chapter 35. La Mazzolata\n",
      "Chapter 36. The Carnival at Rome.\n",
      "Chapter 37. The Catacombs of Saint Sebastian \n",
      "Chapter 38. The Rendezvous\n",
      "Chapter 39. The Guests\n",
      "Chapter 40. The Breakfast\n",
      "Chapter 41. The Presentation\n",
      "Chapter 42. Monsieur Bertuccio\n",
      "Chapter 43. The House at Auteuil\n",
      "Chapter 44. The Vendetta\n",
      "Chapter 45. The Rain of Blood\n",
      "Chapter 46. Unlimited Credit\n",
      "Chapter 47. The Dappled Grays\n",
      "\n",
      " VOLUME THREE\n",
      "Chapter 48. Ideology\n",
      "Chapter 49. Haydée\n",
      "Chapter 50. The Morrel Family\n",
      "Chapter 51. Pyramus and Thisbe\n",
      "Chapter 52. Toxicology\n",
      "Chapter 53. Robert le Diable\n",
      "Chapter 54. A Flurry in Stocks\n",
      "Chapter 55. Major Cavalcanti\n",
      "Chapter 56. Andrea Cavalcanti\n",
      "Chapter 57. In the Lucern Patch\n",
      "Chapter 58. M. Noirtier de Villefort\n",
      "Chapter 59. The Will\n",
      "Chapter 60. The Telegraph\n",
      "Chapter 61. How a Gardener May Get Rid of the Dormice\n",
      "Chapter 62. Ghosts\n",
      "Chapter 63. The Dinner\n",
      "Chapter 64. The Beggar\n",
      "Chapter 65. A Conjugal Scene\n",
      "Chapter 66. Matrimonial Projects\n",
      "Chapter 67. The Office of the King’s Attorney\n",
      "Chapter 68. A Summer Ball\n",
      "Chapter 69. The Inquiry\n",
      "Chapter 70. The Ball\n",
      "Chapter 71. Bread and Salt\n",
      "Chapter 72. Madame de Saint-Méran\n",
      "Chapter 73. The Promise\n",
      "\n",
      "VOLUME FOUR\n",
      "Chapter 74. The Villefort Family Vault\n",
      "Chapter 75. A Signed Statement\n",
      "Chapter 76. Progress of Cavalcanti the Younger\n",
      "Chapter 77. Haydée\n",
      "Chapter 78. We hear From Yanina\n",
      "Chapter 79. The Lemonade\n",
      "Chapter 80. The Accusation\n",
      "Chapter 81. The Room of the Retired Baker\n",
      "Chapter 82. The Burglary\n",
      "Chapter 83. The Hand of God\n",
      "Chapter 84. Beauchamp\n",
      "Chapter 85. The Journey\n",
      "Chapter 86. The Trial\n",
      "Chapter 87. The Challenge\n",
      "Chapter 88. The Insult\n",
      "Chapter 89. The Night\n",
      "Chapter 90. The Meeting\n",
      "Chapter 91. Mother and Son\n",
      "Chapter 92. The Suicide\n",
      "Chapter 93. Valentine\n",
      "Chapter 94. Maximilian’s Avowal\n",
      "Chapter 95. Father and Daughter\n",
      "\n",
      "VOLUME FIVE\n",
      "Chapter 96. The Contract\n",
      "Chapter 97. The Departure for Belgium\n",
      "Chapter 98. The Bell and Bottle Tavern\n",
      "Chapter 99. The Law\n",
      "Chapter 100. The Apparition\n",
      "Chapter 101. Locusta\n",
      "Chapter 102. Valentine\n",
      "Chapter 103. Maximilian\n",
      "Chapter 104. Danglars’ Signature\n",
      "Chapter 105. The Cemetery of Père-Lachaise \n",
      "Chapter 106. Dividing the Proceeds\n",
      "Chapter 107. The Lions’ Den\n",
      "Chapter 108. The Judge\n",
      "Chapter 109. The Assizes\n",
      "Chapter 110. The Indictment\n",
      "Chapter 111. Expiation\n",
      "Chapter 112. The Departure\n",
      "Chapter 113. The Past\n",
      "Chapter 114. Peppino\n",
      "Chapter 115. Luigi Vampa’s Bill of Fare \n",
      "Chapter 116. The Pardon\n",
      "Chapter 117. The Fifth of October\n",
      "\n",
      "VOLUME ONE\n",
      "\n",
      " Chapter 1. Marseilles—The Arrival\n",
      "\n",
      "On the 24th of February, 1815, the look-out at Notre-Dame de la Garde\n",
      "signalled the three-master, the _Pharaon_ from Smyrna, Trieste, and\n",
      "Naples.\n",
      "\n",
      "As usual, a pilot put off immediately, and rounding the Château d’If,\n",
      "got on board the vessel between Cape Morgiou and Rion island.\n",
      "\n",
      "Immediately, and according to custom, the ramparts of Fort Saint-Jean\n",
      "were covered with spectators; it is always an event at Marseilles for a\n",
      "ship to come into port, especially when this ship, like the _Pharaon_,\n",
      "has been built, rigged, and laden at the old Phocee docks, and belongs\n",
      "to an owner of the city.\n",
      "\n",
      "The ship drew on and had safely passed the strait, which some volcanic\n",
      "shock has made between the Calasareigne and Jaros islands; had doubled\n",
      "Pomègue, and approached the harbor under topsails, jib, and spanker,\n",
      "but so slowly and sedately that the idlers, with that instinct which is\n",
      "the forerunner of evil, asked one another what misfortune could have\n",
      "happened on board. However, those experienced in navigation saw plainly\n",
      "that if any accident had occurred, it was not to the vessel herself,\n",
      "for she bore down with all the evidence of being skilfully handled, the\n",
      "anchor a-cockbill, the jib-boom guys already eased off, and standing by\n",
      "the side of the pilot, who was steering the _Pharaon_ towards the\n",
      "narrow entrance of the inner port, was a young man, who, with activity\n",
      "and vigilant eye, watched every motion of the ship, and repeated each\n",
      "direction of the pilot.\n",
      "\n",
      "The vague disquietude which prevailed among the spectators had so much\n",
      "affected one of the crowd that he did not await the arrival of the\n",
      "vessel in harbor, but jumping into a small skiff, desired to be pulled\n",
      "alongside the _Pharaon_, which he reached as she rounded into La\n",
      "Réserve basin.\n",
      "\n",
      "When the young man on board saw this person approach, he left his\n",
      "station by the pilot, and, hat in hand, leaned over the ship’s\n",
      "bulwarks.\n",
      "\n",
      "He was a fine, tall, slim young fellow of eighteen or twenty, with\n",
      "black eyes, and hair as dark as a raven’s wing; and his whole\n",
      "appearance bespoke that calmness and resolution peculiar to men\n",
      "accustomed from their cradle to contend with danger.\n",
      "\n",
      "“Ah, is it you, Dantès?” cried the man in the skiff. “What’s the\n",
      "matter? and why have you such an air of sadness aboard?”\n",
      "\n",
      "“A great misfortune, M. Morrel,” replied the young man, “a great\n",
      "misfortune, for me especially! Off Civita Vecchia we lost our brave\n",
      "Captain Leclere.”\n",
      "\n",
      "“And the cargo?” inquired the owner, eagerly.\n",
      "\n",
      "“Is all safe, M. Morrel; and I think you will be satisfied on that\n",
      "head. But poor Captain Leclere——”\n",
      "\n",
      "“What happened to him?” asked the owner, with an air of considerable\n",
      "resignation. “What happened to the worthy captain?”\n",
      "\n",
      "“He died.”\n",
      "\n",
      "“Fell into the sea?”\n",
      "\n",
      "“No, sir, he died of brain-fever in dreadful agony.” Then turning to\n",
      "the crew, he said, “Bear a hand there, to take in sail!”\n",
      "\n",
      "All hands obeyed, and at once the eight or ten seamen who composed the\n",
      "crew, sprang to their respective stations at the spanker brails and\n",
      "outhaul, topsail sheets and halyards, the jib downhaul, and the topsail\n",
      "clewlines and buntlines. The young sailor gave a look to see that his\n",
      "orders were promptly and accurately obeyed, and then turned again to\n",
      "the owner.\n",
      "\n",
      "“And how did this misfortune occur?” inquired the latter, resuming the\n",
      "interrupted conversation.\n",
      "\n",
      "0023m\n",
      "\n",
      "“Alas, sir, in the most unexpected manner. After a long talk with the\n",
      "harbor-master, Captain Leclere left Naples greatly disturbed in mind.\n",
      "In twenty-four hours he was attacked by a fever, and died three days\n",
      "afterwards. We performed the usual burial service, and he is at his\n",
      "rest, sewn up in his hammock with a thirty-six-pound shot at his head\n",
      "and his heels, off El Giglio island. We bring to his widow his sword\n",
      "and cross of honor. It was worth while, truly,” added the young man\n",
      "with a melancholy smile, “to make war against the English for ten\n",
      "years, and to die in his bed at last, like everybody else.”\n",
      "\n",
      "“Why, you see, Edmond,” replied the owner, who appeared more comforted\n",
      "at every moment, “we are all mortal, and the old must make way for the\n",
      "young. If not, why, there would be no promotion; and since you assure\n",
      "me that the cargo——”\n",
      "\n",
      "“Is all safe and sound, M. Morrel, take my word for it; and I advise\n",
      "you not to take 25,000 francs for the profits of the voyage.”\n",
      "\n",
      "Then, as they were just passing the Round Tower, the young man shouted:\n",
      "“Stand by there to lower the topsails and jib; brail up the spanker!”\n",
      "\n",
      "The order was executed as promptly as it would have been on board a\n",
      "man-of-war.\n",
      "\n",
      "“Let go—and clue up!” At this last command all the sails were lowered,\n",
      "and the vessel moved almost imperceptibly onwards.\n",
      "\n",
      "“Now, if you will come on board, M. Morrel,” said Dantès, observing the\n",
      "owner’s impatience, “here is your supercargo, M. Danglars, coming out\n",
      "of his cabin, who will furnish you with every particular. As for me, I\n",
      "must look after the anchoring, and dress the ship in mourning.” \n",
      "Number of chunks: 294\n"
     ]
    }
   ],
   "source": [
    "print('Example of text chunk:', text_chunks[0].page_content, \n",
    "      '\\nNumber of chunks:', len(text_chunks)) "
   ]
  },
  {
   "cell_type": "code",
   "execution_count": 8,
   "metadata": {},
   "outputs": [
    {
     "name": "stderr",
     "output_type": "stream",
     "text": [
      "d:\\Anaconda\\Lib\\site-packages\\huggingface_hub\\file_download.py:797: FutureWarning: `resume_download` is deprecated and will be removed in version 1.0.0. Downloads always resume when possible. If you want to force a new download, use `force_download=True`.\n",
      "  warnings.warn(\n"
     ]
    }
   ],
   "source": [
    "tokenizer = AutoTokenizer.from_pretrained(\"mlabonne/Meta-Llama-3-8B\")\n",
    "tokenized_chunks = [tokenizer(chunk.page_content)['input_ids'] for chunk in text_chunks]"
   ]
  },
  {
   "cell_type": "code",
   "execution_count": 9,
   "metadata": {},
   "outputs": [
    {
     "data": {
      "text/plain": [
       "('<|begin_of_text|>', '<|end_of_text|>')"
      ]
     },
     "execution_count": 9,
     "metadata": {},
     "output_type": "execute_result"
    }
   ],
   "source": [
    "tokenizer._bos_token, tokenizer._eos_token"
   ]
  },
  {
   "cell_type": "code",
   "execution_count": 10,
   "metadata": {},
   "outputs": [
    {
     "name": "stdout",
     "output_type": "stream",
     "text": [
      "Total number of tokenized chunks: 294\n"
     ]
    }
   ],
   "source": [
    "print('Total number of tokenized chunks:', len(tokenized_chunks))"
   ]
  },
  {
   "cell_type": "markdown",
   "metadata": {},
   "source": [
    "For further pusposes, when the citation part comes up, we need not only to show the user the part of the text that may answer his question, but also provide him the approximate location of the answer. For this, we will attach metadata for each text chunk, that will tell which Chapter in the book this text belongs to. There are only a few maybe Chapters that are less big than set chunk_size(10_000), so the odds of several Chapter names would be in one text chunk are low."
   ]
  },
  {
   "cell_type": "code",
   "execution_count": 11,
   "metadata": {},
   "outputs": [],
   "source": [
    "prev_chapter_name = '' \n",
    "for chunk in text_chunks:\n",
    "    curr_chapter_name = ''\n",
    "    index_start_chapter_name = chunk.page_content.find('Chapter')\n",
    "    if index_start_chapter_name == -1:\n",
    "        curr_chapter_name = prev_chapter_name\n",
    "    else:\n",
    "        index_end_chapter_name = chunk.page_content.find('\\n', index_start_chapter_name)\n",
    "        curr_chapter_name = chunk.page_content[index_start_chapter_name:index_end_chapter_name]\n",
    "        prev_chapter_name = curr_chapter_name\n",
    "    chunk.metadata['belongs_to'] = curr_chapter_name"
   ]
  },
  {
   "cell_type": "code",
   "execution_count": 12,
   "metadata": {},
   "outputs": [
    {
     "data": {
      "text/plain": [
       "[Document(metadata={'belongs_to': 'Chapter 1. Marseilles—The Arrival'}, page_content='\\ufeffThe Project Gutenberg eBook of The Count of Monte Cristo\\n    \\nThis ebook is for the use of anyone anywhere in the United States and\\nmost other parts of the world at no cost and with almost no restrictions\\nwhatsoever. You may copy it, give it away or re-use it under the terms\\nof the Project Gutenberg License included with this ebook or online\\nat www.gutenberg.org. If you are not located in the United States,\\nyou will have to check the laws of the country where you are located\\nbefore using this eBook.\\n\\nTitle: The Count of Monte Cristo\\n\\nAuthor: Alexandre Dumas\\n        Auguste Maquet\\n\\nRelease date: January 1, 1998 [eBook #1184]\\n                Most recently updated: February 4, 2024\\n\\nLanguage: English\\n\\nCredits: Anonymous Project Gutenberg Volunteers, Dan Muller and David Widger\\n\\n\\n*** START OF THE PROJECT GUTENBERG EBOOK THE COUNT OF MONTE CRISTO ***\\nTHE COUNT OF MONTE CRISTO\\n\\nby Alexandre Dumas [père]\\n\\n0009m \\n\\n0011m \\n\\n0019m \\n\\nContents\\n\\n\\n VOLUME ONE\\nChapter 1. Marseilles—The Arrival\\nChapter 2. Father and Son\\nChapter 3. The Catalans\\nChapter 4. Conspiracy\\nChapter 5. The Marriage Feast\\nChapter 6. The Deputy Procureur du Roi\\nChapter 7. The Examination\\nChapter 8. The Château d’If\\nChapter 9. The Evening of the Betrothal\\nChapter 10. The King’s Closet at the Tuileries\\nChapter 11. The Corsican Ogre\\nChapter 12. Father and Son\\nChapter 13. The Hundred Days\\nChapter 14. The Two Prisoners\\nChapter 15. Number 34 and Number 27\\nChapter 16. A Learned Italian\\nChapter 17. The Abbé’s Chamber\\nChapter 18. The Treasure\\nChapter 19. The Third Attack\\nChapter 20. The Cemetery of the Château d’If\\nChapter 21. The Island of Tiboulen\\nChapter 22. The Smugglers\\nChapter 23. The Island of Monte Cristo\\nChapter 24. The Secret Cave\\nChapter 25. The Unknown\\nChapter 26. The Pont du Gard Inn\\nChapter 27. The Story\\n\\n VOLUME TWO\\nChapter 28. The Prison Register\\nChapter 29. The House of Morrel & Son\\nChapter 30. The Fifth of September\\nChapter 31. Italy: Sinbad the Sailor\\nChapter 32. The Waking\\nChapter 33. Roman Bandits\\nChapter 34. The Colosseum\\nChapter 35. La Mazzolata\\nChapter 36. The Carnival at Rome.\\nChapter 37. The Catacombs of Saint Sebastian \\nChapter 38. The Rendezvous\\nChapter 39. The Guests\\nChapter 40. The Breakfast\\nChapter 41. The Presentation\\nChapter 42. Monsieur Bertuccio\\nChapter 43. The House at Auteuil\\nChapter 44. The Vendetta\\nChapter 45. The Rain of Blood\\nChapter 46. Unlimited Credit\\nChapter 47. The Dappled Grays\\n\\n VOLUME THREE\\nChapter 48. Ideology\\nChapter 49. Haydée\\nChapter 50. The Morrel Family\\nChapter 51. Pyramus and Thisbe\\nChapter 52. Toxicology\\nChapter 53. Robert le Diable\\nChapter 54. A Flurry in Stocks\\nChapter 55. Major Cavalcanti\\nChapter 56. Andrea Cavalcanti\\nChapter 57. In the Lucern Patch\\nChapter 58. M. Noirtier de Villefort\\nChapter 59. The Will\\nChapter 60. The Telegraph\\nChapter 61. How a Gardener May Get Rid of the Dormice\\nChapter 62. Ghosts\\nChapter 63. The Dinner\\nChapter 64. The Beggar\\nChapter 65. A Conjugal Scene\\nChapter 66. Matrimonial Projects\\nChapter 67. The Office of the King’s Attorney\\nChapter 68. A Summer Ball\\nChapter 69. The Inquiry\\nChapter 70. The Ball\\nChapter 71. Bread and Salt\\nChapter 72. Madame de Saint-Méran\\nChapter 73. The Promise\\n\\nVOLUME FOUR\\nChapter 74. The Villefort Family Vault\\nChapter 75. A Signed Statement\\nChapter 76. Progress of Cavalcanti the Younger\\nChapter 77. Haydée\\nChapter 78. We hear From Yanina\\nChapter 79. The Lemonade\\nChapter 80. The Accusation\\nChapter 81. The Room of the Retired Baker\\nChapter 82. The Burglary\\nChapter 83. The Hand of God\\nChapter 84. Beauchamp\\nChapter 85. The Journey\\nChapter 86. The Trial\\nChapter 87. The Challenge\\nChapter 88. The Insult\\nChapter 89. The Night\\nChapter 90. The Meeting\\nChapter 91. Mother and Son\\nChapter 92. The Suicide\\nChapter 93. Valentine\\nChapter 94. Maximilian’s Avowal\\nChapter 95. Father and Daughter\\n\\nVOLUME FIVE\\nChapter 96. The Contract\\nChapter 97. The Departure for Belgium\\nChapter 98. The Bell and Bottle Tavern\\nChapter 99. The Law\\nChapter 100. The Apparition\\nChapter 101. Locusta\\nChapter 102. Valentine\\nChapter 103. Maximilian\\nChapter 104. Danglars’ Signature\\nChapter 105. The Cemetery of Père-Lachaise \\nChapter 106. Dividing the Proceeds\\nChapter 107. The Lions’ Den\\nChapter 108. The Judge\\nChapter 109. The Assizes\\nChapter 110. The Indictment\\nChapter 111. Expiation\\nChapter 112. The Departure\\nChapter 113. The Past\\nChapter 114. Peppino\\nChapter 115. Luigi Vampa’s Bill of Fare \\nChapter 116. The Pardon\\nChapter 117. The Fifth of October\\n\\nVOLUME ONE\\n\\n Chapter 1. Marseilles—The Arrival\\n\\nOn the 24th of February, 1815, the look-out at Notre-Dame de la Garde\\nsignalled the three-master, the _Pharaon_ from Smyrna, Trieste, and\\nNaples.\\n\\nAs usual, a pilot put off immediately, and rounding the Château d’If,\\ngot on board the vessel between Cape Morgiou and Rion island.\\n\\nImmediately, and according to custom, the ramparts of Fort Saint-Jean\\nwere covered with spectators; it is always an event at Marseilles for a\\nship to come into port, especially when this ship, like the _Pharaon_,\\nhas been built, rigged, and laden at the old Phocee docks, and belongs\\nto an owner of the city.\\n\\nThe ship drew on and had safely passed the strait, which some volcanic\\nshock has made between the Calasareigne and Jaros islands; had doubled\\nPomègue, and approached the harbor under topsails, jib, and spanker,\\nbut so slowly and sedately that the idlers, with that instinct which is\\nthe forerunner of evil, asked one another what misfortune could have\\nhappened on board. However, those experienced in navigation saw plainly\\nthat if any accident had occurred, it was not to the vessel herself,\\nfor she bore down with all the evidence of being skilfully handled, the\\nanchor a-cockbill, the jib-boom guys already eased off, and standing by\\nthe side of the pilot, who was steering the _Pharaon_ towards the\\nnarrow entrance of the inner port, was a young man, who, with activity\\nand vigilant eye, watched every motion of the ship, and repeated each\\ndirection of the pilot.\\n\\nThe vague disquietude which prevailed among the spectators had so much\\naffected one of the crowd that he did not await the arrival of the\\nvessel in harbor, but jumping into a small skiff, desired to be pulled\\nalongside the _Pharaon_, which he reached as she rounded into La\\nRéserve basin.\\n\\nWhen the young man on board saw this person approach, he left his\\nstation by the pilot, and, hat in hand, leaned over the ship’s\\nbulwarks.\\n\\nHe was a fine, tall, slim young fellow of eighteen or twenty, with\\nblack eyes, and hair as dark as a raven’s wing; and his whole\\nappearance bespoke that calmness and resolution peculiar to men\\naccustomed from their cradle to contend with danger.\\n\\n“Ah, is it you, Dantès?” cried the man in the skiff. “What’s the\\nmatter? and why have you such an air of sadness aboard?”\\n\\n“A great misfortune, M. Morrel,” replied the young man, “a great\\nmisfortune, for me especially! Off Civita Vecchia we lost our brave\\nCaptain Leclere.”\\n\\n“And the cargo?” inquired the owner, eagerly.\\n\\n“Is all safe, M. Morrel; and I think you will be satisfied on that\\nhead. But poor Captain Leclere——”\\n\\n“What happened to him?” asked the owner, with an air of considerable\\nresignation. “What happened to the worthy captain?”\\n\\n“He died.”\\n\\n“Fell into the sea?”\\n\\n“No, sir, he died of brain-fever in dreadful agony.” Then turning to\\nthe crew, he said, “Bear a hand there, to take in sail!”\\n\\nAll hands obeyed, and at once the eight or ten seamen who composed the\\ncrew, sprang to their respective stations at the spanker brails and\\nouthaul, topsail sheets and halyards, the jib downhaul, and the topsail\\nclewlines and buntlines. The young sailor gave a look to see that his\\norders were promptly and accurately obeyed, and then turned again to\\nthe owner.\\n\\n“And how did this misfortune occur?” inquired the latter, resuming the\\ninterrupted conversation.\\n\\n0023m\\n\\n“Alas, sir, in the most unexpected manner. After a long talk with the\\nharbor-master, Captain Leclere left Naples greatly disturbed in mind.\\nIn twenty-four hours he was attacked by a fever, and died three days\\nafterwards. We performed the usual burial service, and he is at his\\nrest, sewn up in his hammock with a thirty-six-pound shot at his head\\nand his heels, off El Giglio island. We bring to his widow his sword\\nand cross of honor. It was worth while, truly,” added the young man\\nwith a melancholy smile, “to make war against the English for ten\\nyears, and to die in his bed at last, like everybody else.”\\n\\n“Why, you see, Edmond,” replied the owner, who appeared more comforted\\nat every moment, “we are all mortal, and the old must make way for the\\nyoung. If not, why, there would be no promotion; and since you assure\\nme that the cargo——”\\n\\n“Is all safe and sound, M. Morrel, take my word for it; and I advise\\nyou not to take 25,000 francs for the profits of the voyage.”\\n\\nThen, as they were just passing the Round Tower, the young man shouted:\\n“Stand by there to lower the topsails and jib; brail up the spanker!”\\n\\nThe order was executed as promptly as it would have been on board a\\nman-of-war.\\n\\n“Let go—and clue up!” At this last command all the sails were lowered,\\nand the vessel moved almost imperceptibly onwards.\\n\\n“Now, if you will come on board, M. Morrel,” said Dantès, observing the\\nowner’s impatience, “here is your supercargo, M. Danglars, coming out\\nof his cabin, who will furnish you with every particular. As for me, I\\nmust look after the anchoring, and dress the ship in mourning.”'),\n",
       " Document(metadata={'belongs_to': 'Chapter 1. Marseilles—The Arrival'}, page_content='“Why, you see, Edmond,” replied the owner, who appeared more comforted\\nat every moment, “we are all mortal, and the old must make way for the\\nyoung. If not, why, there would be no promotion; and since you assure\\nme that the cargo——”\\n\\n“Is all safe and sound, M. Morrel, take my word for it; and I advise\\nyou not to take 25,000 francs for the profits of the voyage.”\\n\\nThen, as they were just passing the Round Tower, the young man shouted:\\n“Stand by there to lower the topsails and jib; brail up the spanker!”\\n\\nThe order was executed as promptly as it would have been on board a\\nman-of-war.\\n\\n“Let go—and clue up!” At this last command all the sails were lowered,\\nand the vessel moved almost imperceptibly onwards.\\n\\n“Now, if you will come on board, M. Morrel,” said Dantès, observing the\\nowner’s impatience, “here is your supercargo, M. Danglars, coming out\\nof his cabin, who will furnish you with every particular. As for me, I\\nmust look after the anchoring, and dress the ship in mourning.”\\n\\nThe owner did not wait for a second invitation. He seized a rope which\\nDantès flung to him, and with an activity that would have done credit\\nto a sailor, climbed up the side of the ship, while the young man,\\ngoing to his task, left the conversation to Danglars, who now came\\ntowards the owner. He was a man of twenty-five or twenty-six years of\\nage, of unprepossessing countenance, obsequious to his superiors,\\ninsolent to his subordinates; and this, in addition to his position as\\nresponsible agent on board, which is always obnoxious to the sailors,\\nmade him as much disliked by the crew as Edmond Dantès was beloved by\\nthem.\\n\\n“Well, M. Morrel,” said Danglars, “you have heard of the misfortune\\nthat has befallen us?”\\n\\n“Yes—yes: poor Captain Leclere! He was a brave and an honest man.”\\n\\n“And a first-rate seaman, one who had seen long and honorable service,\\nas became a man charged with the interests of a house so important as\\nthat of Morrel & Son,” replied Danglars.\\n\\n“But,” replied the owner, glancing after Dantès, who was watching the\\nanchoring of his vessel, “it seems to me that a sailor needs not be so\\nold as you say, Danglars, to understand his business, for our friend\\nEdmond seems to understand it thoroughly, and not to require\\ninstruction from anyone.”\\n\\n“Yes,” said Danglars, darting at Edmond a look gleaming with hate.\\n“Yes, he is young, and youth is invariably self-confident. Scarcely was\\nthe captain’s breath out of his body when he assumed the command\\nwithout consulting anyone, and he caused us to lose a day and a half at\\nthe Island of Elba, instead of making for Marseilles direct.”\\n\\n0025m\\n\\n“As to taking command of the vessel,” replied Morrel, “that was his\\nduty as captain’s mate; as to losing a day and a half off the Island of\\nElba, he was wrong, unless the vessel needed repairs.”\\n\\n“The vessel was in as good condition as I am, and as, I hope you are,\\nM. Morrel, and this day and a half was lost from pure whim, for the\\npleasure of going ashore, and nothing else.”\\n\\n“Dantès,” said the shipowner, turning towards the young man, “come this\\nway!”\\n\\n“In a moment, sir,” answered Dantès, “and I’m with you.” Then calling\\nto the crew, he said, “Let go!”\\n\\nThe anchor was instantly dropped, and the chain ran rattling through\\nthe port-hole. Dantès continued at his post in spite of the presence of\\nthe pilot, until this manœuvre was completed, and then he added,\\n“Half-mast the colors, and square the yards!”\\n\\n“You see,” said Danglars, “he fancies himself captain already, upon my\\nword.”\\n\\n“And so, in fact, he is,” said the owner.\\n\\n“Except your signature and your partner’s, M. Morrel.”\\n\\n“And why should he not have this?” asked the owner; “he is young, it is\\ntrue, but he seems to me a thorough seaman, and of full experience.”\\n\\nA cloud passed over Danglars’ brow.\\n\\n“Your pardon, M. Morrel,” said Dantès, approaching, “the vessel now\\nrides at anchor, and I am at your service. You hailed me, I think?”\\n\\nDanglars retreated a step or two. “I wished to inquire why you stopped\\nat the Island of Elba?”\\n\\n“I do not know, sir; it was to fulfil the last instructions of Captain\\nLeclere, who, when dying, gave me a packet for Marshal Bertrand.”\\n\\n“Then did you see him, Edmond?”\\n\\n“Who?”\\n\\n“The marshal.”\\n\\n“Yes.”\\n\\nMorrel looked around him, and then, drawing Dantès on one side, he said\\nsuddenly—\\n\\n“And how is the emperor?”\\n\\n“Very well, as far as I could judge from the sight of him.”\\n\\n“You saw the emperor, then?”\\n\\n“He entered the marshal’s apartment while I was there.”\\n\\n“And you spoke to him?”\\n\\n“Why, it was he who spoke to me, sir,” said Dantès, with a smile.\\n\\n“And what did he say to you?”\\n\\n“Asked me questions about the vessel, the time she left Marseilles, the\\ncourse she had taken, and what was her cargo. I believe, if she had not\\nbeen laden, and I had been her master, he would have bought her. But I\\ntold him I was only mate, and that she belonged to the firm of Morrel &\\nSon. ‘Ah, yes,’ he said, ‘I know them. The Morrels have been shipowners\\nfrom father to son; and there was a Morrel who served in the same\\nregiment with me when I was in garrison at Valence.’”\\n\\n“_Pardieu!_ and that is true!” cried the owner, greatly delighted. “And\\nthat was Policar Morrel, my uncle, who was afterwards a captain.\\nDantès, you must tell my uncle that the emperor remembered him, and you\\nwill see it will bring tears into the old soldier’s eyes. Come, come,”\\ncontinued he, patting Edmond’s shoulder kindly, “you did very right,\\nDantès, to follow Captain Leclere’s instructions, and touch at Elba,\\nalthough if it were known that you had conveyed a packet to the\\nmarshal, and had conversed with the emperor, it might bring you into\\ntrouble.”\\n\\n0027m\\n\\n“How could that bring me into trouble, sir?” asked Dantès; “for I did\\nnot even know of what I was the bearer; and the emperor merely made\\nsuch inquiries as he would of the first comer. But, pardon me, here are\\nthe health officers and the customs inspectors coming alongside.” And\\nthe young man went to the gangway. As he departed, Danglars approached,\\nand said,—\\n\\n“Well, it appears that he has given you satisfactory reasons for his\\nlanding at Porto-Ferrajo?”\\n\\n“Yes, most satisfactory, my dear Danglars.”\\n\\n“Well, so much the better,” said the supercargo; “for it is not\\npleasant to think that a comrade has not done his duty.”\\n\\n“Dantès has done his,” replied the owner, “and that is not saying much.\\nIt was Captain Leclere who gave orders for this delay.”\\n\\n“Talking of Captain Leclere, has not Dantès given you a letter from\\nhim?”\\n\\n“To me?—no—was there one?”\\n\\n“I believe that, besides the packet, Captain Leclere confided a letter\\nto his care.”\\n\\n“Of what packet are you speaking, Danglars?”\\n\\n“Why, that which Dantès left at Porto-Ferrajo.”\\n\\n“How do you know he had a packet to leave at Porto-Ferrajo?”\\n\\nDanglars turned very red.\\n\\n“I was passing close to the door of the captain’s cabin, which was half\\nopen, and I saw him give the packet and letter to Dantès.”\\n\\n“He did not speak to me of it,” replied the shipowner; “but if there be\\nany letter he will give it to me.”\\n\\nDanglars reflected for a moment. “Then, M. Morrel, I beg of you,” said\\nhe, “not to say a word to Dantès on the subject. I may have been\\nmistaken.”\\n\\nAt this moment the young man returned; Danglars withdrew.\\n\\n“Well, my dear Dantès, are you now free?” inquired the owner.\\n\\n“Yes, sir.”\\n\\n“You have not been long detained.”\\n\\n“No. I gave the custom-house officers a copy of our bill of lading; and\\nas to the other papers, they sent a man off with the pilot, to whom I\\ngave them.”\\n\\n“Then you have nothing more to do here?”\\n\\n“No—everything is all right now.”\\n\\n“Then you can come and dine with me?”\\n\\n“I really must ask you to excuse me, M. Morrel. My first visit is due\\nto my father, though I am not the less grateful for the honor you have\\ndone me.”\\n\\n0029m\\n\\n“Right, Dantès, quite right. I always knew you were a good son.”\\n\\n“And,” inquired Dantès, with some hesitation, “do you know how my\\nfather is?”\\n\\n“Well, I believe, my dear Edmond, though I have not seen him lately.”\\n\\n“Yes, he likes to keep himself shut up in his little room.”\\n\\n“That proves, at least, that he has wanted for nothing during your\\nabsence.”\\n\\nDantès smiled. “My father is proud, sir, and if he had not a meal left,\\nI doubt if he would have asked anything from anyone, except from\\nHeaven.”\\n\\n“Well, then, after this first visit has been made we shall count on\\nyou.”\\n\\n“I must again excuse myself, M. Morrel, for after this first visit has\\nbeen paid I have another which I am most anxious to pay.”\\n\\n“True, Dantès, I forgot that there was at the Catalans someone who\\nexpects you no less impatiently than your father—the lovely Mercédès.”\\n\\nDantès blushed.\\n\\n“Ah, ha,” said the shipowner, “I am not in the least surprised, for she\\nhas been to me three times, inquiring if there were any news of the\\n_Pharaon_. _Peste!_ Edmond, you have a very handsome mistress!”\\n\\n“She is not my mistress,” replied the young sailor, gravely; “she is my\\nbetrothed.”\\n\\n“Sometimes one and the same thing,” said Morrel, with a smile.\\n\\n“Not with us, sir,” replied Dantès.\\n\\n“Well, well, my dear Edmond,” continued the owner, “don’t let me detain\\nyou. You have managed my affairs so well that I ought to allow you all\\nthe time you require for your own. Do you want any money?”\\n\\n“No, sir; I have all my pay to take—nearly three months’ wages.”\\n\\n“You are a careful fellow, Edmond.”\\n\\n“Say I have a poor father, sir.”\\n\\n“Yes, yes, I know how good a son you are, so now hasten away to see\\nyour father. I have a son too, and I should be very wroth with those\\nwho detained him from me after a three months’ voyage.”\\n\\n“Then I have your leave, sir?”\\n\\n“Yes, if you have nothing more to say to me.”\\n\\n“Nothing.”\\n\\n“Captain Leclere did not, before he died, give you a letter for me?”\\n\\n“He was unable to write, sir. But that reminds me that I must ask your\\nleave of absence for some days.”\\n\\n“To get married?”\\n\\n“Yes, first, and then to go to Paris.”'),\n",
       " Document(metadata={'belongs_to': 'Chapter 2. Father and Son'}, page_content='“Sometimes one and the same thing,” said Morrel, with a smile.\\n\\n“Not with us, sir,” replied Dantès.\\n\\n“Well, well, my dear Edmond,” continued the owner, “don’t let me detain\\nyou. You have managed my affairs so well that I ought to allow you all\\nthe time you require for your own. Do you want any money?”\\n\\n“No, sir; I have all my pay to take—nearly three months’ wages.”\\n\\n“You are a careful fellow, Edmond.”\\n\\n“Say I have a poor father, sir.”\\n\\n“Yes, yes, I know how good a son you are, so now hasten away to see\\nyour father. I have a son too, and I should be very wroth with those\\nwho detained him from me after a three months’ voyage.”\\n\\n“Then I have your leave, sir?”\\n\\n“Yes, if you have nothing more to say to me.”\\n\\n“Nothing.”\\n\\n“Captain Leclere did not, before he died, give you a letter for me?”\\n\\n“He was unable to write, sir. But that reminds me that I must ask your\\nleave of absence for some days.”\\n\\n“To get married?”\\n\\n“Yes, first, and then to go to Paris.”\\n\\n“Very good; have what time you require, Dantès. It will take quite six\\nweeks to unload the cargo, and we cannot get you ready for sea until\\nthree months after that; only be back again in three months, for the\\n_Pharaon_,” added the owner, patting the young sailor on the back,\\n“cannot sail without her captain.”\\n\\n“Without her captain!” cried Dantès, his eyes sparkling with animation;\\n“pray mind what you say, for you are touching on the most secret wishes\\nof my heart. Is it really your intention to make me captain of the\\n_Pharaon_?”\\n\\n“If I were sole owner we’d shake hands on it now, my dear Dantès, and\\ncall it settled; but I have a partner, and you know the Italian\\nproverb—_Chi ha compagno ha padrone_—‘He who has a partner has a\\nmaster.’ But the thing is at least half done, as you have one out of\\ntwo votes. Rely on me to procure you the other; I will do my best.”\\n\\n“Ah, M. Morrel,” exclaimed the young seaman, with tears in his eyes,\\nand grasping the owner’s hand, “M. Morrel, I thank you in the name of\\nmy father and of Mercédès.”\\n\\n“That’s all right, Edmond. There’s a providence that watches over the\\ndeserving. Go to your father; go and see Mercédès, and afterwards come\\nto me.”\\n\\n“Shall I row you ashore?”\\n\\n“No, thank you; I shall remain and look over the accounts with\\nDanglars. Have you been satisfied with him this voyage?”\\n\\n“That is according to the sense you attach to the question, sir. Do you\\nmean is he a good comrade? No, for I think he never liked me since the\\nday when I was silly enough, after a little quarrel we had, to propose\\nto him to stop for ten minutes at the island of Monte Cristo to settle\\nthe dispute—a proposition which I was wrong to suggest, and he quite\\nright to refuse. If you mean as responsible agent when you ask me the\\nquestion, I believe there is nothing to say against him, and that you\\nwill be content with the way in which he has performed his duty.”\\n\\n“But tell me, Dantès, if you had command of the _Pharaon_ should you be\\nglad to see Danglars remain?”\\n\\n“Captain or mate, M. Morrel, I shall always have the greatest respect\\nfor those who possess the owners’ confidence.”\\n\\n“That’s right, that’s right, Dantès! I see you are a thoroughly good\\nfellow, and will detain you no longer. Go, for I see how impatient you\\nare.”\\n\\n“Then I have leave?”\\n\\n“Go, I tell you.”\\n\\n“May I have the use of your skiff?”\\n\\n“Certainly.”\\n\\n“Then, for the present, M. Morrel, farewell, and a thousand thanks!”\\n\\n“I hope soon to see you again, my dear Edmond. Good luck to you.”\\n\\nThe young sailor jumped into the skiff, and sat down in the stern\\nsheets, with the order that he be put ashore at La Canebière. The two\\noarsmen bent to their work, and the little boat glided away as rapidly\\nas possible in the midst of the thousand vessels which choke up the\\nnarrow way which leads between the two rows of ships from the mouth of\\nthe harbor to the Quai d’Orléans.\\n\\nThe shipowner, smiling, followed him with his eyes until he saw him\\nspring out on the quay and disappear in the midst of the throng, which\\nfrom five o’clock in the morning until nine o’clock at night, swarms in\\nthe famous street of La Canebière,—a street of which the modern\\nPhocéens are so proud that they say with all the gravity in the world,\\nand with that accent which gives so much character to what is said, “If\\nParis had La Canebière, Paris would be a second Marseilles.” On turning\\nround the owner saw Danglars behind him, apparently awaiting orders,\\nbut in reality also watching the young sailor,—but there was a great\\ndifference in the expression of the two men who thus followed the\\nmovements of Edmond Dantès.\\n\\n Chapter 2. Father and Son\\n\\nWe will leave Danglars struggling with the demon of hatred, and\\nendeavoring to insinuate in the ear of the shipowner some evil\\nsuspicions against his comrade, and follow Dantès, who, after having\\ntraversed La Canebière, took the Rue de Noailles, and entering a small\\nhouse, on the left of the Allées de Meilhan, rapidly ascended four\\nflights of a dark staircase, holding the baluster with one hand, while\\nwith the other he repressed the beatings of his heart, and paused\\nbefore a half-open door, from which he could see the whole of a small\\nroom.\\n\\nThis room was occupied by Dantès’ father. The news of the arrival of\\nthe _Pharaon_ had not yet reached the old man, who, mounted on a chair,\\nwas amusing himself by training with trembling hand the nasturtiums and\\nsprays of clematis that clambered over the trellis at his window.\\nSuddenly, he felt an arm thrown around his body, and a well-known voice\\nbehind him exclaimed, “Father—dear father!”\\n\\nThe old man uttered a cry, and turned round; then, seeing his son, he\\nfell into his arms, pale and trembling.\\n\\n“What ails you, my dearest father? Are you ill?” inquired the young\\nman, much alarmed.\\n\\n“No, no, my dear Edmond—my boy—my son!—no; but I did not expect you;\\nand joy, the surprise of seeing you so suddenly—Ah, I feel as if I were\\ngoing to die.”\\n\\n“Come, come, cheer up, my dear father! ’Tis I—really I! They say joy\\nnever hurts, and so I came to you without any warning. Come now, do\\nsmile, instead of looking at me so solemnly. Here I am back again, and\\nwe are going to be happy.”\\n\\n“Yes, yes, my boy, so we will—so we will,” replied the old man; “but\\nhow shall we be happy? Shall you never leave me again? Come, tell me\\nall the good fortune that has befallen you.”\\n\\n“God forgive me,” said the young man, “for rejoicing at happiness\\nderived from the misery of others, but, Heaven knows, I did not seek\\nthis good fortune; it has happened, and I really cannot pretend to\\nlament it. The good Captain Leclere is dead, father, and it is probable\\nthat, with the aid of M. Morrel, I shall have his place. Do you\\nunderstand, father? Only imagine me a captain at twenty, with a hundred\\nlouis pay, and a share in the profits! Is this not more than a poor\\nsailor like me could have hoped for?”\\n\\n“Yes, my dear boy,” replied the old man, “it is very fortunate.”\\n\\n“Well, then, with the first money I touch, I mean you to have a small\\nhouse, with a garden in which to plant clematis, nasturtiums, and\\nhoneysuckle. But what ails you, father? Are you not well?”\\n\\n“’Tis nothing, nothing; it will soon pass away”—and as he said so the\\nold man’s strength failed him, and he fell backwards.\\n\\n“Come, come,” said the young man, “a glass of wine, father, will revive\\nyou. Where do you keep your wine?”\\n\\n“No, no; thanks. You need not look for it; I do not want it,” said the\\nold man.\\n\\n“Yes, yes, father, tell me where it is,” and he opened two or three\\ncupboards.\\n\\n“It is no use,” said the old man, “there is no wine.”\\n\\n“What, no wine?” said Dantès, turning pale, and looking alternately at\\nthe hollow cheeks of the old man and the empty cupboards. “What, no\\nwine? Have you wanted money, father?”\\n\\n“I want nothing now that I have you,” said the old man.\\n\\n“Yet,” stammered Dantès, wiping the perspiration from his brow,—“yet I\\ngave you two hundred francs when I left, three months ago.”\\n\\n“Yes, yes, Edmond, that is true, but you forgot at that time a little\\ndebt to our neighbor, Caderousse. He reminded me of it, telling me if I\\ndid not pay for you, he would be paid by M. Morrel; and so, you see,\\nlest he might do you an injury——”\\n\\n“Well?”\\n\\n“Why, I paid him.”\\n\\n“But,” cried Dantès, “it was a hundred and forty francs I owed\\nCaderousse.”\\n\\n“Yes,” stammered the old man.\\n\\n“And you paid him out of the two hundred francs I left you?”\\n\\nThe old man nodded.\\n\\n“So that you have lived for three months on sixty francs,” muttered\\nEdmond.\\n\\n“You know how little I require,” said the old man.\\n\\n“Heaven pardon me,” cried Edmond, falling on his knees before his\\nfather.\\n\\n“What are you doing?”\\n\\n“You have wounded me to the heart.”\\n\\n“Never mind it, for I see you once more,” said the old man; “and now\\nit’s all over—everything is all right again.”\\n\\n0035m\\n\\n“Yes, here I am,” said the young man, “with a promising future and a\\nlittle money. Here, father, here!” he said, “take this—take it, and\\nsend for something immediately.” And he emptied his pockets on the\\ntable, the contents consisting of a dozen gold pieces, five or six\\nfive-franc pieces, and some smaller coin. The countenance of old Dantès\\nbrightened.\\n\\n“Whom does this belong to?” he inquired.\\n\\n“To me, to you, to us! Take it; buy some provisions; be happy, and\\ntomorrow we shall have more.”\\n\\n“Gently, gently,” said the old man, with a smile; “and by your leave I\\nwill use your purse moderately, for they would say, if they saw me buy\\ntoo many things at a time, that I had been obliged to await your\\nreturn, in order to be able to purchase them.”\\n\\n“Do as you please; but, first of all, pray have a servant, father. I\\nwill not have you left alone so long. I have some smuggled coffee and\\nmost capital tobacco, in a small chest in the hold, which you shall\\nhave tomorrow. But, hush, here comes somebody.”\\n\\n“’Tis Caderousse, who has heard of your arrival, and no doubt comes to\\ncongratulate you on your fortunate return.”'),\n",
       " Document(metadata={'belongs_to': 'Chapter 3. The Catalan'}, page_content='“Whom does this belong to?” he inquired.\\n\\n“To me, to you, to us! Take it; buy some provisions; be happy, and\\ntomorrow we shall have more.”\\n\\n“Gently, gently,” said the old man, with a smile; “and by your leave I\\nwill use your purse moderately, for they would say, if they saw me buy\\ntoo many things at a time, that I had been obliged to await your\\nreturn, in order to be able to purchase them.”\\n\\n“Do as you please; but, first of all, pray have a servant, father. I\\nwill not have you left alone so long. I have some smuggled coffee and\\nmost capital tobacco, in a small chest in the hold, which you shall\\nhave tomorrow. But, hush, here comes somebody.”\\n\\n“’Tis Caderousse, who has heard of your arrival, and no doubt comes to\\ncongratulate you on your fortunate return.”\\n\\n“Ah, lips that say one thing, while the heart thinks another,” murmured\\nEdmond. “But, never mind, he is a neighbor who has done us a service on\\na time, so he’s welcome.”\\n\\nAs Edmond paused, the black and bearded head of Caderousse appeared at\\nthe door. He was a man of twenty-five or six, and held a piece of\\ncloth, which, being a tailor, he was about to make into a coat-lining.\\n\\n“What, is it you, Edmond, back again?” said he, with a broad\\nMarseillaise accent, and a grin that displayed his ivory-white teeth.\\n\\n“Yes, as you see, neighbor Caderousse; and ready to be agreeable to you\\nin any and every way,” replied Dantès, but ill-concealing his coldness\\nunder this cloak of civility.\\n\\n“Thanks—thanks; but, fortunately, I do not want for anything; and it\\nchances that at times there are others who have need of me.” Dantès\\nmade a gesture. “I do not allude to you, my boy. No!—no! I lent you\\nmoney, and you returned it; that’s like good neighbors, and we are\\nquits.”\\n\\n“We are never quits with those who oblige us,” was Dantès’ reply; “for\\nwhen we do not owe them money, we owe them gratitude.”\\n\\n“What’s the use of mentioning that? What is done is done. Let us talk\\nof your happy return, my boy. I had gone on the quay to match a piece\\nof mulberry cloth, when I met friend Danglars. ‘You at\\nMarseilles?’—‘Yes,’ says he.\\n\\n“‘I thought you were at Smyrna.’—‘I was; but am now back again.’\\n\\n“‘And where is the dear boy, our little Edmond?’\\n\\n“‘Why, with his father, no doubt,’ replied Danglars. And so I came,”\\nadded Caderousse, “as fast as I could to have the pleasure of shaking\\nhands with a friend.”\\n\\n0037m\\n\\n“Worthy Caderousse!” said the old man, “he is so much attached to us.”\\n\\n“Yes, to be sure I am. I love and esteem you, because honest folks are\\nso rare. But it seems you have come back rich, my boy,” continued the\\ntailor, looking askance at the handful of gold and silver which Dantès\\nhad thrown on the table.\\n\\nThe young man remarked the greedy glance which shone in the dark eyes\\nof his neighbor. “Eh,” he said, negligently, “this money is not mine. I\\nwas expressing to my father my fears that he had wanted many things in\\nmy absence, and to convince me he emptied his purse on the table. Come,\\nfather” added Dantès, “put this money back in your box—unless neighbor\\nCaderousse wants anything, and in that case it is at his service.”\\n\\n“No, my boy, no,” said Caderousse. “I am not in any want, thank God, my\\nliving is suited to my means. Keep your money—keep it, I say;—one never\\nhas too much;—but, at the same time, my boy, I am as much obliged by\\nyour offer as if I took advantage of it.”\\n\\n“It was offered with good will,” said Dantès.\\n\\n“No doubt, my boy; no doubt. Well, you stand well with M. Morrel I\\nhear,—you insinuating dog, you!”\\n\\n“M. Morrel has always been exceedingly kind to me,” replied Dantès.\\n\\n“Then you were wrong to refuse to dine with him.”\\n\\n“What, did you refuse to dine with him?” said old Dantès; “and did he\\ninvite you to dine?”\\n\\n“Yes, my dear father,” replied Edmond, smiling at his father’s\\nastonishment at the excessive honor paid to his son.\\n\\n“And why did you refuse, my son?” inquired the old man.\\n\\n“That I might the sooner see you again, my dear father,” replied the\\nyoung man. “I was most anxious to see you.”\\n\\n“But it must have vexed M. Morrel, good, worthy man,” said Caderousse.\\n“And when you are looking forward to be captain, it was wrong to annoy\\nthe owner.”\\n\\n“But I explained to him the cause of my refusal,” replied Dantès, “and\\nI hope he fully understood it.”\\n\\n“Yes, but to be captain one must do a little flattery to one’s\\npatrons.”\\n\\n“I hope to be captain without that,” said Dantès.\\n\\n“So much the better—so much the better! Nothing will give greater\\npleasure to all your old friends; and I know one down there behind the\\nSaint Nicolas citadel who will not be sorry to hear it.”\\n\\n“Mercédès?” said the old man.\\n\\n“Yes, my dear father, and with your permission, now I have seen you,\\nand know you are well and have all you require, I will ask your consent\\nto go and pay a visit to the Catalans.”\\n\\n“Go, my dear boy,” said old Dantès; “and Heaven bless you in your wife,\\nas it has blessed me in my son!”\\n\\n“His wife!” said Caderousse; “why, how fast you go on, father Dantès;\\nshe is not his wife yet, as it seems to me.”\\n\\n“No, but according to all probability she soon will be,” replied\\nEdmond.\\n\\n“Yes—yes,” said Caderousse; “but you were right to return as soon as\\npossible, my boy.”\\n\\n“And why?”\\n\\n“Because Mercédès is a very fine girl, and fine girls never lack\\nfollowers; she particularly has them by dozens.”\\n\\n“Really?” answered Edmond, with a smile which had in it traces of\\nslight uneasiness.\\n\\n0039m\\n\\n“Ah, yes,” continued Caderousse, “and capital offers, too; but you\\nknow, you will be captain, and who could refuse you then?”\\n\\n“Meaning to say,” replied Dantès, with a smile which but ill-concealed\\nhis trouble, “that if I were not a captain——”\\n\\n“Eh—eh!” said Caderousse, shaking his head.\\n\\n“Come, come,” said the sailor, “I have a better opinion than you of\\nwomen in general, and of Mercédès in particular; and I am certain that,\\ncaptain or not, she will remain ever faithful to me.”\\n\\n“So much the better—so much the better,” said Caderousse. “When one is\\ngoing to be married, there is nothing like implicit confidence; but\\nnever mind that, my boy,—go and announce your arrival, and let her know\\nall your hopes and prospects.”\\n\\n“I will go directly,” was Edmond’s reply; and, embracing his father,\\nand nodding to Caderousse, he left the apartment.\\n\\nCaderousse lingered for a moment, then taking leave of old Dantès, he\\nwent downstairs to rejoin Danglars, who awaited him at the corner of\\nthe Rue Senac.\\n\\n“Well,” said Danglars, “did you see him?”\\n\\n“I have just left him,” answered Caderousse.\\n\\n“Did he allude to his hope of being captain?”\\n\\n“He spoke of it as a thing already decided.”\\n\\n“Indeed!” said Danglars, “he is in too much hurry, it appears to me.”\\n\\n“Why, it seems M. Morrel has promised him the thing.”\\n\\n“So that he is quite elated about it?”\\n\\n“Why, yes, he is actually insolent over the matter—has already offered\\nme his patronage, as if he were a grand personage, and proffered me a\\nloan of money, as though he were a banker.”\\n\\n“Which you refused?”\\n\\n“Most assuredly; although I might easily have accepted it, for it was I\\nwho put into his hands the first silver he ever earned; but now M.\\nDantès has no longer any occasion for assistance—he is about to become\\na captain.”\\n\\n“Pooh!” said Danglars, “he is not one yet.”\\n\\n“_Ma foi!_ it will be as well if he is not,” answered Caderousse; “for\\nif he should be, there will be really no speaking to him.”\\n\\n“If we choose,” replied Danglars, “he will remain what he is; and\\nperhaps become even less than he is.”\\n\\n“What do you mean?”\\n\\n“Nothing—I was speaking to myself. And is he still in love with the\\nCatalane?”\\n\\n“Over head and ears; but, unless I am much mistaken, there will be a\\nstorm in that quarter.”\\n\\n0041m\\n\\n“Explain yourself.”\\n\\n“Why should I?”\\n\\n“It is more important than you think, perhaps. You do not like Dantès?”\\n\\n“I never like upstarts.”\\n\\n“Then tell me all you know about the Catalane.”\\n\\n“I know nothing for certain; only I have seen things which induce me to\\nbelieve, as I told you, that the future captain will find some\\nannoyance in the vicinity of the Vieilles Infirmeries.”\\n\\n“What have you seen?—come, tell me!”\\n\\n“Well, every time I have seen Mercédès come into the city she has been\\naccompanied by a tall, strapping, black-eyed Catalan, with a red\\ncomplexion, brown skin, and fierce air, whom she calls cousin.”\\n\\n“Really; and you think this cousin pays her attentions?”\\n\\n“I only suppose so. What else can a strapping chap of twenty-one mean\\nwith a fine wench of seventeen?”\\n\\n“And you say that Dantès has gone to the Catalans?”\\n\\n“He went before I came down.”\\n\\n“Let us go the same way; we will stop at La Réserve, and we can drink a\\nglass of La Malgue, whilst we wait for news.”\\n\\n“Come along,” said Caderousse; “but you pay the score.”\\n\\n“Of course,” replied Danglars; and going quickly to the designated\\nplace, they called for a bottle of wine, and two glasses.\\n\\nPère Pamphile had seen Dantès pass not ten minutes before; and assured\\nthat he was at the Catalans, they sat down under the budding foliage of\\nthe planes and sycamores, in the branches of which the birds were\\nsinging their welcome to one of the first days of spring.\\n\\n Chapter 3. The Catalans'),\n",
       " Document(metadata={'belongs_to': 'Chapter 3. The Catalans'}, page_content='“Really; and you think this cousin pays her attentions?”\\n\\n“I only suppose so. What else can a strapping chap of twenty-one mean\\nwith a fine wench of seventeen?”\\n\\n“And you say that Dantès has gone to the Catalans?”\\n\\n“He went before I came down.”\\n\\n“Let us go the same way; we will stop at La Réserve, and we can drink a\\nglass of La Malgue, whilst we wait for news.”\\n\\n“Come along,” said Caderousse; “but you pay the score.”\\n\\n“Of course,” replied Danglars; and going quickly to the designated\\nplace, they called for a bottle of wine, and two glasses.\\n\\nPère Pamphile had seen Dantès pass not ten minutes before; and assured\\nthat he was at the Catalans, they sat down under the budding foliage of\\nthe planes and sycamores, in the branches of which the birds were\\nsinging their welcome to one of the first days of spring.\\n\\n Chapter 3. The Catalans\\n\\nBeyond a bare, weather-worn wall, about a hundred paces from the spot\\nwhere the two friends sat looking and listening as they drank their\\nwine, was the village of the Catalans. Long ago this mysterious colony\\nquitted Spain, and settled on the tongue of land on which it is to this\\nday. Whence it came no one knew, and it spoke an unknown tongue. One of\\nits chiefs, who understood Provençal, begged the commune of Marseilles\\nto give them this bare and barren promontory, where, like the sailors\\nof old, they had run their boats ashore. The request was granted; and\\nthree months afterwards, around the twelve or fifteen small vessels\\nwhich had brought these gypsies of the sea, a small village sprang up.\\nThis village, constructed in a singular and picturesque manner, half\\nMoorish, half Spanish, still remains, and is inhabited by descendants\\nof the first comers, who speak the language of their fathers. For three\\nor four centuries they have remained upon this small promontory, on\\nwhich they had settled like a flight of seabirds, without mixing with\\nthe Marseillaise population, intermarrying, and preserving their\\noriginal customs and the costume of their mother-country as they have\\npreserved its language.\\n\\nOur readers will follow us along the only street of this little\\nvillage, and enter with us one of the houses, which is sunburned to the\\nbeautiful dead-leaf color peculiar to the buildings of the country, and\\nwithin coated with whitewash, like a Spanish posada. A young and\\nbeautiful girl, with hair as black as jet, her eyes as velvety as the\\ngazelle’s, was leaning with her back against the wainscot, rubbing in\\nher slender delicately moulded fingers a bunch of heath blossoms, the\\nflowers of which she was picking off and strewing on the floor; her\\narms, bare to the elbow, brown, and modelled after those of the\\nArlesian Venus, moved with a kind of restless impatience, and she\\ntapped the earth with her arched and supple foot, so as to display the\\npure and full shape of her well-turned leg, in its red cotton, gray and\\nblue clocked, stocking. At three paces from her, seated in a chair\\nwhich he balanced on two legs, leaning his elbow on an old worm-eaten\\ntable, was a tall young man of twenty, or two-and-twenty, who was\\nlooking at her with an air in which vexation and uneasiness were\\nmingled. He questioned her with his eyes, but the firm and steady gaze\\nof the young girl controlled his look.\\n\\n“You see, Mercédès,” said the young man, “here is Easter come round\\nagain; tell me, is this the moment for a wedding?”\\n\\n“I have answered you a hundred times, Fernand, and really you must be\\nvery stupid to ask me again.”\\n\\n“Well, repeat it,—repeat it, I beg of you, that I may at last believe\\nit! Tell me for the hundredth time that you refuse my love, which had\\nyour mother’s sanction. Make me understand once for all that you are\\ntrifling with my happiness, that my life or death are nothing to you.\\nAh, to have dreamed for ten years of being your husband, Mercédès, and\\nto lose that hope, which was the only stay of my existence!”\\n\\n“At least it was not I who ever encouraged you in that hope, Fernand,”\\nreplied Mercédès; “you cannot reproach me with the slightest coquetry.\\nI have always said to you, ‘I love you as a brother; but do not ask\\nfrom me more than sisterly affection, for my heart is another’s.’ Is\\nnot this true, Fernand?”\\n\\n“Yes, that is very true, Mercédès,” replied the young man, “Yes, you\\nhave been cruelly frank with me; but do you forget that it is among the\\nCatalans a sacred law to intermarry?”\\n\\n0045m\\n\\n“You mistake, Fernand; it is not a law, but merely a custom, and, I\\npray of you, do not cite this custom in your favor. You are included in\\nthe conscription, Fernand, and are only at liberty on sufferance,\\nliable at any moment to be called upon to take up arms. Once a soldier,\\nwhat would you do with me, a poor orphan, forlorn, without fortune,\\nwith nothing but a half-ruined hut and a few ragged nets, the miserable\\ninheritance left by my father to my mother, and by my mother to me? She\\nhas been dead a year, and you know, Fernand, I have subsisted almost\\nentirely on public charity. Sometimes you pretend I am useful to you,\\nand that is an excuse to share with me the produce of your fishing, and\\nI accept it, Fernand, because you are the son of my father’s brother,\\nbecause we were brought up together, and still more because it would\\ngive you so much pain if I refuse. But I feel very deeply that this\\nfish which I go and sell, and with the produce of which I buy the flax\\nI spin,—I feel very keenly, Fernand, that this is charity.”\\n\\n“And if it were, Mercédès, poor and lone as you are, you suit me as\\nwell as the daughter of the first shipowner or the richest banker of\\nMarseilles! What do such as we desire but a good wife and careful\\nhousekeeper, and where can I look for these better than in you?”\\n\\n“Fernand,” answered Mercédès, shaking her head, “a woman becomes a bad\\nmanager, and who shall say she will remain an honest woman, when she\\nloves another man better than her husband? Rest content with my\\nfriendship, for I say once more that is all I can promise, and I will\\npromise no more than I can bestow.”\\n\\n“I understand,” replied Fernand, “you can endure your own wretchedness\\npatiently, but you are afraid to share mine. Well, Mercédès, beloved by\\nyou, I would tempt fortune; you would bring me good luck, and I should\\nbecome rich. I could extend my occupation as a fisherman, might get a\\nplace as clerk in a warehouse, and become in time a dealer myself.”\\n\\n“You could do no such thing, Fernand; you are a soldier, and if you\\nremain at the Catalans it is because there is no war; so remain a\\nfisherman, and contented with my friendship, as I cannot give you\\nmore.”\\n\\n“Well, I will do better, Mercédès. I will be a sailor; instead of the\\ncostume of our fathers, which you despise, I will wear a varnished hat,\\na striped shirt, and a blue jacket, with an anchor on the buttons.\\nWould not that dress please you?”\\n\\n“What do you mean?” asked Mercédès, with an angry glance,—“what do you\\nmean? I do not understand you?”\\n\\n“I mean, Mercédès, that you are thus harsh and cruel with me, because\\nyou are expecting someone who is thus attired; but perhaps he whom you\\nawait is inconstant, or if he is not, the sea is so to him.”\\n\\n“Fernand,” cried Mercédès, “I believed you were good-hearted, and I was\\nmistaken! Fernand, you are wicked to call to your aid jealousy and the\\nanger of God! Yes, I will not deny it, I do await, and I do love him of\\nwhom you speak; and, if he does not return, instead of accusing him of\\nthe inconstancy which you insinuate, I will tell you that he died\\nloving me and me only.” The young girl made a gesture of rage. “I\\nunderstand you, Fernand; you would be revenged on him because I do not\\nlove you; you would cross your Catalan knife with his dirk. What end\\nwould that answer? To lose you my friendship if he were conquered, and\\nsee that friendship changed into hate if you were victor. Believe me,\\nto seek a quarrel with a man is a bad method of pleasing the woman who\\nloves that man. No, Fernand, you will not thus give way to evil\\nthoughts. Unable to have me for your wife, you will content yourself\\nwith having me for your friend and sister; and besides,” she added, her\\neyes troubled and moistened with tears, “wait, wait, Fernand; you said\\njust now that the sea was treacherous, and he has been gone four\\nmonths, and during these four months there have been some terrible\\nstorms.”\\n\\nFernand made no reply, nor did he attempt to check the tears which\\nflowed down the cheeks of Mercédès, although for each of these tears he\\nwould have shed his heart’s blood; but these tears flowed for another.\\nHe arose, paced a while up and down the hut, and then, suddenly\\nstopping before Mercédès, with his eyes glowing and his hands\\nclenched,—“Say, Mercédès,” he said, “once for all, is this your final\\ndetermination?”\\n\\n“I love Edmond Dantès,” the young girl calmly replied, “and none but\\nEdmond shall ever be my husband.”\\n\\n“And you will always love him?”\\n\\n“As long as I live.”\\n\\nFernand let fall his head like a defeated man, heaved a sigh that was\\nlike a groan, and then suddenly looking her full in the face, with\\nclenched teeth and expanded nostrils, said,—“But if he is dead——”\\n\\n“If he is dead, I shall die too.”\\n\\n“If he has forgotten you——”\\n\\n“Mercédès!” called a joyous voice from without,—“Mercédès!”\\n\\n“Ah,” exclaimed the young girl, blushing with delight, and fairly\\nleaping in excess of love, “you see he has not forgotten me, for here\\nhe is!” And rushing towards the door, she opened it, saying, “Here,\\nEdmond, here I am!”')]"
      ]
     },
     "execution_count": 12,
     "metadata": {},
     "output_type": "execute_result"
    }
   ],
   "source": [
    "text_chunks[:5]"
   ]
  },
  {
   "cell_type": "markdown",
   "metadata": {},
   "source": [
    "Here we will define an additional function to perform text cleaning. Text will be cleaned by removing punctuation, converting to lowercase, removing special characters and extra whitespace."
   ]
  },
  {
   "cell_type": "code",
   "execution_count": 1,
   "metadata": {},
   "outputs": [],
   "source": [
    "import re\n",
    "import string\n",
    "\n",
    "def clean_text(text):\n",
    "    text = text.translate(str.maketrans('', '', string.punctuation))\n",
    "    text = text.lower()\n",
    "    text = re.sub(r'[^a-zA-Z0-9\\s]', '', text)\n",
    "    text = re.sub(r'\\s+', ' ', text)\n",
    "\n",
    "    return text.strip()"
   ]
  },
  {
   "cell_type": "markdown",
   "metadata": {},
   "source": [
    "Now, when all the preperations of the dataset are done, we can form a new version of the documents collection."
   ]
  },
  {
   "cell_type": "code",
   "execution_count": 13,
   "metadata": {},
   "outputs": [],
   "source": [
    "chunked_data_corpus = []\n",
    "\n",
    "for index, chunk in enumerate(text_chunks):\n",
    "    chunked_data_corpus.append({\n",
    "        'raw_text': chunk.page_content,\n",
    "        'tokenized_text': tokenized_chunks[index],\n",
    "        'cleaned_text': clean_text(chunk.page_content),\n",
    "        'chapter_name': chunk.metadata['belongs_to']\n",
    "    })"
   ]
  },
  {
   "cell_type": "code",
   "execution_count": 14,
   "metadata": {},
   "outputs": [
    {
     "data": {
      "text/html": [
       "<div>\n",
       "<style scoped>\n",
       "    .dataframe tbody tr th:only-of-type {\n",
       "        vertical-align: middle;\n",
       "    }\n",
       "\n",
       "    .dataframe tbody tr th {\n",
       "        vertical-align: top;\n",
       "    }\n",
       "\n",
       "    .dataframe thead th {\n",
       "        text-align: right;\n",
       "    }\n",
       "</style>\n",
       "<table border=\"1\" class=\"dataframe\">\n",
       "  <thead>\n",
       "    <tr style=\"text-align: right;\">\n",
       "      <th></th>\n",
       "      <th>raw_text</th>\n",
       "      <th>tokenized_text</th>\n",
       "      <th>cleaned_text</th>\n",
       "      <th>chapter_name</th>\n",
       "    </tr>\n",
       "  </thead>\n",
       "  <tbody>\n",
       "    <tr>\n",
       "      <th>0</th>\n",
       "      <td>﻿The Project Gutenberg eBook of The Count of M...</td>\n",
       "      <td>[128000, 3305, 791, 5907, 52686, 58610, 315, 5...</td>\n",
       "      <td>the project gutenberg ebook of the count of mo...</td>\n",
       "      <td>Chapter 1. Marseilles—The Arrival</td>\n",
       "    </tr>\n",
       "    <tr>\n",
       "      <th>1</th>\n",
       "      <td>“Why, you see, Edmond,” replied the owner, who...</td>\n",
       "      <td>[128000, 2118, 10445, 11, 499, 1518, 11, 3279,...</td>\n",
       "      <td>why you see edmond replied the owner who appea...</td>\n",
       "      <td>Chapter 1. Marseilles—The Arrival</td>\n",
       "    </tr>\n",
       "    <tr>\n",
       "      <th>2</th>\n",
       "      <td>“Sometimes one and the same thing,” said Morre...</td>\n",
       "      <td>[128000, 2118, 32148, 832, 323, 279, 1890, 324...</td>\n",
       "      <td>sometimes one and the same thing said morrel w...</td>\n",
       "      <td>Chapter 2. Father and Son</td>\n",
       "    </tr>\n",
       "    <tr>\n",
       "      <th>3</th>\n",
       "      <td>“Whom does this belong to?” he inquired.\\n\\n“T...</td>\n",
       "      <td>[128000, 2118, 1671, 316, 1587, 420, 9352, 311...</td>\n",
       "      <td>whom does this belong to he inquired to me to ...</td>\n",
       "      <td>Chapter 3. The Catalan</td>\n",
       "    </tr>\n",
       "    <tr>\n",
       "      <th>4</th>\n",
       "      <td>“Really; and you think this cousin pays her at...</td>\n",
       "      <td>[128000, 2118, 49885, 26, 323, 499, 1781, 420,...</td>\n",
       "      <td>really and you think this cousin pays her atte...</td>\n",
       "      <td>Chapter 3. The Catalans</td>\n",
       "    </tr>\n",
       "  </tbody>\n",
       "</table>\n",
       "</div>"
      ],
      "text/plain": [
       "                                            raw_text  \\\n",
       "0  ﻿The Project Gutenberg eBook of The Count of M...   \n",
       "1  “Why, you see, Edmond,” replied the owner, who...   \n",
       "2  “Sometimes one and the same thing,” said Morre...   \n",
       "3  “Whom does this belong to?” he inquired.\\n\\n“T...   \n",
       "4  “Really; and you think this cousin pays her at...   \n",
       "\n",
       "                                      tokenized_text  \\\n",
       "0  [128000, 3305, 791, 5907, 52686, 58610, 315, 5...   \n",
       "1  [128000, 2118, 10445, 11, 499, 1518, 11, 3279,...   \n",
       "2  [128000, 2118, 32148, 832, 323, 279, 1890, 324...   \n",
       "3  [128000, 2118, 1671, 316, 1587, 420, 9352, 311...   \n",
       "4  [128000, 2118, 49885, 26, 323, 499, 1781, 420,...   \n",
       "\n",
       "                                        cleaned_text  \\\n",
       "0  the project gutenberg ebook of the count of mo...   \n",
       "1  why you see edmond replied the owner who appea...   \n",
       "2  sometimes one and the same thing said morrel w...   \n",
       "3  whom does this belong to he inquired to me to ...   \n",
       "4  really and you think this cousin pays her atte...   \n",
       "\n",
       "                        chapter_name  \n",
       "0  Chapter 1. Marseilles—The Arrival  \n",
       "1  Chapter 1. Marseilles—The Arrival  \n",
       "2          Chapter 2. Father and Son  \n",
       "3             Chapter 3. The Catalan  \n",
       "4            Chapter 3. The Catalans  "
      ]
     },
     "execution_count": 14,
     "metadata": {},
     "output_type": "execute_result"
    }
   ],
   "source": [
    "chunked_data_corpus_df = pd.DataFrame(chunked_data_corpus)\n",
    "chunked_data_corpus_df.head()"
   ]
  },
  {
   "cell_type": "code",
   "execution_count": 15,
   "metadata": {},
   "outputs": [],
   "source": [
    "chunked_data_corpus_df.to_csv('../data/chunked_data_corpus.csv', index=False)"
   ]
  },
  {
   "cell_type": "markdown",
   "metadata": {},
   "source": [
    "<h1>LiteLLM library (llama3-8b-8192 model).</h1>"
   ]
  },
  {
   "cell_type": "code",
   "execution_count": 19,
   "metadata": {},
   "outputs": [],
   "source": [
    "from litellm import completion\n",
    "from dotenv import load_dotenv\n",
    "import os\n",
    "\n",
    "load_dotenv()\n",
    "\n",
    "GROQ_API_KEY = os.getenv(\"GROQ_API_KEY\")"
   ]
  },
  {
   "cell_type": "code",
   "execution_count": 100,
   "metadata": {},
   "outputs": [],
   "source": [
    "class QuestionAnsweringBot:\n",
    "\n",
    "    #def __init__(self, docs) -> None:\n",
    "    #    self.retriever = Retriever(docs)\n",
    "\n",
    "    def answer_question(self, question: str) -> str:\n",
    "        PROMPT = \"\"\"\\\n",
    "You are a helpful assistant that can answer questions. \n",
    "\n",
    "Rules:\n",
    "- Reply with the answer only and nothing but the answer.\n",
    "- Say 'I don't know' if you don't know the answer.\n",
    "- Use the provided context.\n",
    "        \"\"\"\n",
    "\n",
    "        context = \"\"\"Chapter 1. Marseilles—The Arrival\n",
    "Chapter 2. Father and Son\n",
    "Chapter 3. The Catalans\n",
    "Chapter 4. Conspiracy\n",
    "Chapter 5. The Marriage Feast\n",
    "Chapter 6. The Deputy Procureur du Roi\n",
    "Chapter 7. The Examination\n",
    "Chapter 8. The Château d’If\n",
    "Chapter 9. The Evening of the Betrothal\n",
    "Chapter 10. The King’s Closet at the Tuileries\n",
    "Chapter 11. The Corsican Ogre\n",
    "Chapter 12. Father and Son\n",
    "Chapter 13. The Hundred Days\n",
    "Chapter 14. The Two Prisoners\n",
    "Chapter 15. Number 34 and Number 27\n",
    "Chapter 16. A Learned Italian\n",
    "Chapter 17. The Abbé’s Chamber\n",
    "Chapter 18. The Treasure\n",
    "Chapter 19. The Third Attack\n",
    "Chapter 20. The Cemetery of the Château d’If\n",
    "Chapter 21. The Island of Tiboulen\n",
    "Chapter 22. The Smugglers\n",
    "Chapter 23. The Island of Monte Cristo\n",
    "Chapter 24. The Secret Cave\n",
    "Chapter 25. The Unknown\n",
    "Chapter 26. The Pont du Gard Inn\n",
    "Chapter 27. The Story\"\"\" #self.retriever.get_docs(question)\n",
    "\n",
    "        response = completion(\n",
    "                                model=\"groq/llama3-8b-8192\", \n",
    "                                messages=[\n",
    "                                    {\"role\": \"system\", \"content\": PROMPT},\n",
    "                                    {\"role\": \"user\", \"content\": f\"Context: {context}\\nQuestion: {question}\"}\n",
    "                            ],\n",
    "                            )\n",
    "        return response\n",
    "    \n",
    "bot = QuestionAnsweringBot()"
   ]
  },
  {
   "cell_type": "code",
   "execution_count": null,
   "metadata": {},
   "outputs": [
    {
     "name": "stdout",
     "output_type": "stream",
     "text": [
      "What is the 25 chapter?\n",
      "The Unknown\n"
     ]
    }
   ],
   "source": [
    "question = \"What is the 25th chapter?\"\n",
    "\n",
    "answer = bot.answer_question(question)\n",
    "print(question)\n",
    "print(answer.choices[0].message.content)"
   ]
  },
  {
   "cell_type": "code",
   "execution_count": 103,
   "metadata": {},
   "outputs": [
    {
     "name": "stdout",
     "output_type": "stream",
     "text": [
      "Who is the current president of US?\n",
      "I don't know\n"
     ]
    }
   ],
   "source": [
    "question = \"Who is the current president of US?\"\n",
    "\n",
    "answer = bot.answer_question(question)\n",
    "print(question)\n",
    "print(answer.choices[0].message.content)"
   ]
  },
  {
   "cell_type": "code",
   "execution_count": 63,
   "metadata": {},
   "outputs": [
    {
     "name": "stdout",
     "output_type": "stream",
     "text": [
      "[Choices(finish_reason='length', index=0, message=Message(content=' (Part 2)\\nThe US is a country of 50 states, each with its own constitution and laws. The president of the US is the head of state and head of government of the US. The president is elected by the people of the US to a four-year term. The president is the commander-in-chief of the US armed forces. The president is the chief executive of the US government. The president is the head of the executive branch of the US government. The president is the head', role='assistant', tool_calls=None, function_call=None))]\n"
     ]
    }
   ],
   "source": [
    "print(answer.choices)"
   ]
  }
 ],
 "metadata": {
  "kernelspec": {
   "display_name": "base",
   "language": "python",
   "name": "python3"
  },
  "language_info": {
   "codemirror_mode": {
    "name": "ipython",
    "version": 3
   },
   "file_extension": ".py",
   "mimetype": "text/x-python",
   "name": "python",
   "nbconvert_exporter": "python",
   "pygments_lexer": "ipython3",
   "version": "3.11.4"
  }
 },
 "nbformat": 4,
 "nbformat_minor": 2
}
